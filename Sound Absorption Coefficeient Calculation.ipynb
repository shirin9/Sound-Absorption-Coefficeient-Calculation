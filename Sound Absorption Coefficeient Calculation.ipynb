{
 "cells": [
  {
   "cell_type": "markdown",
   "id": "5e73ef36-4af7-423e-a15d-b2f6acb2b20f",
   "metadata": {},
   "source": [
    "\n",
    "The calculation of the absorption coefficient in the sound_absorption function is based on the formulas proposed by Francois & Garrison in 1982. Francois & Garrison's work provides mathematical equations for estimating the absorption of sound in seawater based on various environmental factors such as temperature, salinity, depth, and pH."
   ]
  },
  {
   "cell_type": "markdown",
   "id": "46e4585b-845f-4df6-b290-b8434791cb3a",
   "metadata": {},
   "source": [
    "The function incorporates three major contributions to sound absorption in seawater:\n",
    "\n",
    "1 Boric Acid Contribution: Boric acid contributes to sound absorption in seawater, and its absorption coefficient is calculated based on the pH level.\n",
    "\n",
    "2 MgSO4 Contribution: Magnesium sulfate (MgSO4) also affects sound absorption, and its absorption coefficient is calculated based on salinity and temperature.\n",
    "\n",
    "3 Pure Water Contribution: The contribution of pure water to sound absorption is calculated separately, considering temperature and depth."
   ]
  },
  {
   "cell_type": "markdown",
   "id": "4d672c12-feeb-454b-9b1d-b3231f185aab",
   "metadata": {},
   "source": [
    "These contributions are combined to compute the total sound absorption coefficient for a given set of environmental conditions and frequency."
   ]
  },
  {
   "cell_type": "markdown",
   "id": "53a8fe4a-ca71-40c7-88f7-a0b64fb7e83b",
   "metadata": {},
   "source": [
    "The Francois & Garrison (1982) study provides a valuable framework for understanding and predicting sound absorption in seawater, which is crucial for various applications such as underwater acoustics, oceanography, and marine biology."
   ]
  },
  {
   "cell_type": "code",
   "execution_count": null,
   "id": "4ef5f097-5aba-4173-8c0d-6c0bee26b0e9",
   "metadata": {},
   "outputs": [],
   "source": []
  },
  {
   "cell_type": "code",
   "execution_count": 4,
   "id": "b3d0dddb-b264-4cd2-9ef4-7f2b0d2ebf4f",
   "metadata": {},
   "outputs": [],
   "source": [
    "import math\n",
    "\n",
    "def sound_absorption(T, pH, S, D, f):\n",
    "    # Sound speed (m/s)\n",
    "    c = 1412 + 3.21 * T + 1.19 * S + 0.0167 * D\n",
    "\n",
    "    # Boric Acid contribution\n",
    "    A1 = 8.86 * math.pow(10, 0.78 * pH - 5) /c\n",
    "    P1 = 1\n",
    "    f1 = 2.8 * math.pow(S/35, 0.5) * math.pow(10, 4 - 1245/(T+273))\n",
    "\n",
    "    # MgSO4 contribution\n",
    "    A2 = 21.44 * S * (1 + 0.025 * T)/c\n",
    "    D2 = math.pow(D, 2)\n",
    "    P2 = 1 - 1.37 * math.pow(10, -4) * D + 6.2 * math.pow(10, -9) * D2\n",
    "    f2 = (8.17 * math.pow(10, 8 - 1990/(T+273))) / (1 + 0.0018 * (S-35))\n",
    "\n",
    "\n",
    "    # Pure Water contribution\n",
    "    if T <= 20:\n",
    "        A3 = 4.937 * math.pow(10, -4) - 2.59 * math.pow(10, -5) * T \\\n",
    "             + 9.11 * math.pow(10, -7) * math.pow(T, 2) - 1.50 * math.pow(10, -8) * math.pow(T, 3)\n",
    "    else:\n",
    "        A3 = 3.964 * math.pow(10, -4) - 1.146 * math.pow(10, -5) * T \\\n",
    "             + 1.45 * math.pow(10, -7) * math.pow(T, 2) - 6.5 * math.pow(10, -10) * math.pow(T, 3)\n",
    "    D3 = math.pow(D, 2)\n",
    "    P3 = 1 - 3.83 * math.pow(10, -5) * D + 4.9 * math.pow(10, -10) * D3\n",
    "    f3 = (8.34 * math.pow(10, -1) * math.pow(math.pow(f,2) + math.pow(2.8, 2), 0.5)) / (1 + math.pow(f/2.8, 2))\n",
    "\n",
    "    # Total sound absorption\n",
    "    total_absorption = A1 * P1 * f1 * math.pow(f, 2) / (math.pow(f, 2) + math.pow(f1, 2)) \\\n",
    "                       + A2 * P2 * f2 * math.pow(f, 2) / (math.pow(f, 2) + math.pow(f2, 2)) \\\n",
    "                       + A3 * P3 * math.pow(f, 2) \n",
    "    return total_absorption"
   ]
  },
  {
   "cell_type": "code",
   "execution_count": null,
   "id": "77a63c01-ae8e-449a-a5db-27f74e6e5ade",
   "metadata": {},
   "outputs": [],
   "source": []
  },
  {
   "cell_type": "markdown",
   "id": "2b089316-b8c6-4f50-8a82-a9fbeaa20137",
   "metadata": {},
   "source": [
    "Replace following df with your actual dataframe containing depth, temperature, and salinity values.  \n",
    "\n",
    "Following code computes the absorption values using the sound_absorption function for each row, and adds a new column named 'absorption' to the DataFrame with these computed values."
   ]
  },
  {
   "cell_type": "code",
   "execution_count": null,
   "id": "15460b2e-9364-4a4d-9ed0-3c2f86c1e90a",
   "metadata": {},
   "outputs": [],
   "source": [
    "import pandas as pd\n",
    "import math\n",
    "\n",
    "# Define frequency (KHz)\n",
    "f =   # insert frequency value\n",
    "\n",
    "# Define pH\n",
    "pH =  # enter pH value\n",
    "\n",
    "# Compute absorption values for each row\n",
    "df['absorption'] = df.apply(lambda row: sound_absorption(row['temperature'], pH, row['salinity'], row['depth'], f), axis=1)*math.pow(10,-3)\n",
    "\n",
    "df"
   ]
  },
  {
   "cell_type": "code",
   "execution_count": null,
   "id": "8db54bc3-3b7a-4eab-b9d4-e0323506f56f",
   "metadata": {},
   "outputs": [],
   "source": []
  },
  {
   "cell_type": "markdown",
   "id": "4219b52f-3b93-4353-a05b-d5a0823e968f",
   "metadata": {},
   "source": [
    "\n",
    "Reference:\n",
    "\n",
    "Francois, R. E., & Garrison, G. R. (1982). Sound absorption based on ocean measurements. Part II: Boric acid contribution and equation for total absorption. The Journal of the Acoustical Society of America, 72(6), 1879-1890. https://doi.org/10.1121/1.388673"
   ]
  },
  {
   "cell_type": "code",
   "execution_count": null,
   "id": "62bd0749-647a-41f8-9e90-e9a45fa572f6",
   "metadata": {},
   "outputs": [],
   "source": []
  }
 ],
 "metadata": {
  "kernelspec": {
   "display_name": "Python 3 (ipykernel)",
   "language": "python",
   "name": "python3"
  },
  "language_info": {
   "codemirror_mode": {
    "name": "ipython",
    "version": 3
   },
   "file_extension": ".py",
   "mimetype": "text/x-python",
   "name": "python",
   "nbconvert_exporter": "python",
   "pygments_lexer": "ipython3",
   "version": "3.12.2"
  }
 },
 "nbformat": 4,
 "nbformat_minor": 5
}
